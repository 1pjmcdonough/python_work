{
 "cells": [
  {
   "cell_type": "markdown",
   "metadata": {},
   "source": [
    "### Question\n",
    "\n",
    "Is there a relationship between review sentiment, review length, and star rating of reviews and can we predict star rating with the others? Could we exploit this to help produce more balanced reviewing by suggesting to reviewers a star rating based on their written review?\n",
    "\n",
    "\n",
    "### Rationale\n",
    "1. We want to investigate the relationship between the sentiment, length, and rating of reviews to better understand how they are related.\n",
    "2. In addition, we can use this information to explore possible ways of improving the overall quality and structure of reviews.\n",
    "\n",
    "### Data\n",
    "Our data contains customer reviews from different restaurants around Blacksburg. It comes in a pre-cleaned CSV format and was provided by the instructor. We will use Pandas to import the file in to a DataFrame."
   ]
  },
  {
   "cell_type": "code",
   "execution_count": 1,
   "metadata": {},
   "outputs": [
    {
     "data": {
      "text/html": [
       "<div>\n",
       "<style scoped>\n",
       "    .dataframe tbody tr th:only-of-type {\n",
       "        vertical-align: middle;\n",
       "    }\n",
       "\n",
       "    .dataframe tbody tr th {\n",
       "        vertical-align: top;\n",
       "    }\n",
       "\n",
       "    .dataframe thead th {\n",
       "        text-align: right;\n",
       "    }\n",
       "</style>\n",
       "<table border=\"1\" class=\"dataframe\">\n",
       "  <thead>\n",
       "    <tr style=\"text-align: right;\">\n",
       "      <th></th>\n",
       "      <th>Restaurant</th>\n",
       "      <th>Author</th>\n",
       "      <th>Date</th>\n",
       "      <th>Stars</th>\n",
       "      <th>Text</th>\n",
       "      <th>Useful</th>\n",
       "    </tr>\n",
       "  </thead>\n",
       "  <tbody>\n",
       "    <tr>\n",
       "      <th>0</th>\n",
       "      <td>Cabo Fish Taco</td>\n",
       "      <td>Mark M.</td>\n",
       "      <td>1/21/2019</td>\n",
       "      <td>5.0</td>\n",
       "      <td>The tortilla chips were good, the salsa was re...</td>\n",
       "      <td>2.0</td>\n",
       "    </tr>\n",
       "    <tr>\n",
       "      <th>1</th>\n",
       "      <td>Cabo Fish Taco</td>\n",
       "      <td>K.P K.</td>\n",
       "      <td>3/2/2019</td>\n",
       "      <td>4.0</td>\n",
       "      <td>Nice variety of appetizers and entree's.Well s...</td>\n",
       "      <td>0.0</td>\n",
       "    </tr>\n",
       "    <tr>\n",
       "      <th>2</th>\n",
       "      <td>Cabo Fish Taco</td>\n",
       "      <td>Thomas N.</td>\n",
       "      <td>12/23/2018</td>\n",
       "      <td>5.0</td>\n",
       "      <td>Living in Blacksburg for the past 3 years I've...</td>\n",
       "      <td>0.0</td>\n",
       "    </tr>\n",
       "    <tr>\n",
       "      <th>3</th>\n",
       "      <td>Cabo Fish Taco</td>\n",
       "      <td>Miller G.</td>\n",
       "      <td>12/22/2018</td>\n",
       "      <td>5.0</td>\n",
       "      <td>This is easily my favorite restaurant in Black...</td>\n",
       "      <td>0.0</td>\n",
       "    </tr>\n",
       "    <tr>\n",
       "      <th>4</th>\n",
       "      <td>Cabo Fish Taco</td>\n",
       "      <td>Lori W.</td>\n",
       "      <td>11/4/2018</td>\n",
       "      <td>5.0</td>\n",
       "      <td>TACOS! there is A good reason \"taco\" is in the...</td>\n",
       "      <td>0.0</td>\n",
       "    </tr>\n",
       "  </tbody>\n",
       "</table>\n",
       "</div>"
      ],
      "text/plain": [
       "       Restaurant     Author        Date  Stars  \\\n",
       "0  Cabo Fish Taco    Mark M.   1/21/2019    5.0   \n",
       "1  Cabo Fish Taco     K.P K.    3/2/2019    4.0   \n",
       "2  Cabo Fish Taco  Thomas N.  12/23/2018    5.0   \n",
       "3  Cabo Fish Taco  Miller G.  12/22/2018    5.0   \n",
       "4  Cabo Fish Taco    Lori W.   11/4/2018    5.0   \n",
       "\n",
       "                                                Text  Useful  \n",
       "0  The tortilla chips were good, the salsa was re...     2.0  \n",
       "1  Nice variety of appetizers and entree's.Well s...     0.0  \n",
       "2  Living in Blacksburg for the past 3 years I've...     0.0  \n",
       "3  This is easily my favorite restaurant in Black...     0.0  \n",
       "4  TACOS! there is A good reason \"taco\" is in the...     0.0  "
      ]
     },
     "execution_count": 1,
     "metadata": {},
     "output_type": "execute_result"
    }
   ],
   "source": [
    "import pandas as pd\n",
    "import numpy as np\n",
    "import matplotlib\n",
    "import matplotlib.pyplot as plt\n",
    "%matplotlib inline\n",
    "\n",
    "# Import all of the data from the CSV file in to a DataFrame\n",
    "reviews = pd.read_csv('Homework09.csv')\n",
    "reviews.head()"
   ]
  },
  {
   "cell_type": "markdown",
   "metadata": {},
   "source": [
    "We now have a DataFrame containing all of the review data from the CSV file. Each review includes five additional features: the review's author, date, star rating, and usefulness in addition to the restaurant that was reviewed. \n",
    "\n",
    "Now we want to create a new DataFrame that will include only the sentiment, length, and star rating of each review. For the sentiment of each review, we will categorize them as either positive or negative based on a ratio of the difference of positive and negative words to the total amount of words in the text. In addition, the lengths of each review will be based on their word count after removing stopwords."
   ]
  },
  {
   "cell_type": "code",
   "execution_count": 2,
   "metadata": {},
   "outputs": [
    {
     "data": {
      "text/html": [
       "<div>\n",
       "<style scoped>\n",
       "    .dataframe tbody tr th:only-of-type {\n",
       "        vertical-align: middle;\n",
       "    }\n",
       "\n",
       "    .dataframe tbody tr th {\n",
       "        vertical-align: top;\n",
       "    }\n",
       "\n",
       "    .dataframe thead th {\n",
       "        text-align: right;\n",
       "    }\n",
       "</style>\n",
       "<table border=\"1\" class=\"dataframe\">\n",
       "  <thead>\n",
       "    <tr style=\"text-align: right;\">\n",
       "      <th></th>\n",
       "      <th>Length</th>\n",
       "      <th>Stars</th>\n",
       "      <th>Sentiment</th>\n",
       "    </tr>\n",
       "  </thead>\n",
       "  <tbody>\n",
       "    <tr>\n",
       "      <th>0</th>\n",
       "      <td>41</td>\n",
       "      <td>5.0</td>\n",
       "      <td>Positive</td>\n",
       "    </tr>\n",
       "    <tr>\n",
       "      <th>1</th>\n",
       "      <td>30</td>\n",
       "      <td>4.0</td>\n",
       "      <td>Positive</td>\n",
       "    </tr>\n",
       "    <tr>\n",
       "      <th>2</th>\n",
       "      <td>100</td>\n",
       "      <td>5.0</td>\n",
       "      <td>Positive</td>\n",
       "    </tr>\n",
       "    <tr>\n",
       "      <th>3</th>\n",
       "      <td>71</td>\n",
       "      <td>5.0</td>\n",
       "      <td>Positive</td>\n",
       "    </tr>\n",
       "    <tr>\n",
       "      <th>4</th>\n",
       "      <td>87</td>\n",
       "      <td>5.0</td>\n",
       "      <td>Positive</td>\n",
       "    </tr>\n",
       "    <tr>\n",
       "      <th>...</th>\n",
       "      <td>...</td>\n",
       "      <td>...</td>\n",
       "      <td>...</td>\n",
       "    </tr>\n",
       "    <tr>\n",
       "      <th>1650</th>\n",
       "      <td>15</td>\n",
       "      <td>4.0</td>\n",
       "      <td>Positive</td>\n",
       "    </tr>\n",
       "    <tr>\n",
       "      <th>1651</th>\n",
       "      <td>42</td>\n",
       "      <td>4.0</td>\n",
       "      <td>Positive</td>\n",
       "    </tr>\n",
       "    <tr>\n",
       "      <th>1652</th>\n",
       "      <td>31</td>\n",
       "      <td>4.0</td>\n",
       "      <td>Positive</td>\n",
       "    </tr>\n",
       "    <tr>\n",
       "      <th>1653</th>\n",
       "      <td>40</td>\n",
       "      <td>4.0</td>\n",
       "      <td>Positive</td>\n",
       "    </tr>\n",
       "    <tr>\n",
       "      <th>1654</th>\n",
       "      <td>15</td>\n",
       "      <td>3.0</td>\n",
       "      <td>Positive</td>\n",
       "    </tr>\n",
       "  </tbody>\n",
       "</table>\n",
       "<p>1655 rows × 3 columns</p>\n",
       "</div>"
      ],
      "text/plain": [
       "      Length  Stars Sentiment\n",
       "0         41    5.0  Positive\n",
       "1         30    4.0  Positive\n",
       "2        100    5.0  Positive\n",
       "3         71    5.0  Positive\n",
       "4         87    5.0  Positive\n",
       "...      ...    ...       ...\n",
       "1650      15    4.0  Positive\n",
       "1651      42    4.0  Positive\n",
       "1652      31    4.0  Positive\n",
       "1653      40    4.0  Positive\n",
       "1654      15    3.0  Positive\n",
       "\n",
       "[1655 rows x 3 columns]"
      ]
     },
     "execution_count": 2,
     "metadata": {},
     "output_type": "execute_result"
    }
   ],
   "source": [
    "# Gets the sentiment of each review\n",
    "positives = set(open(\"positive.txt\").read().split())\n",
    "negatives = set(open(\"negative.txt\").read().split())\n",
    "stopwords = set(open(\"stopwords.txt\").read().split())\n",
    "reviews[\"bag\"] = reviews.Text.map(lambda t: t.replace(',',' ').lower().split())\n",
    "reviews[\"bag\"] = reviews.bag.map(lambda b: [w for w in b if w not in stopwords])\n",
    "\n",
    "reviews[\"positive_words_count\"] = reviews.bag.map(lambda b: len([w for w in b if w in positives]))\n",
    "reviews[\"negative_words_count\"] = reviews.bag.map(lambda b: len([w for w in b if w in negatives]))\n",
    "reviews[\"pn_difference\"] = (reviews.positive_words_count - reviews.negative_words_count) / reviews.bag.map(len)\n",
    "reviews[\"Sentiment\"] = reviews.pn_difference.map(lambda x: \"Positive\" if x >= 0 else \"Negative\")\n",
    "\n",
    "# Gets the length of each review\n",
    "review_lengths = reviews.bag.map(len)\n",
    "review_lengths\n",
    "\n",
    "# Creates the new DataFrame\n",
    "d = {\n",
    "    \"Length\": review_lengths,\n",
    "    \"Stars\": reviews.Stars,\n",
    "    \"Sentiment\": reviews.Sentiment\n",
    "    }\n",
    "\n",
    "analysisDF = pd.DataFrame(d)\n",
    "analysisDF"
   ]
  },
  {
   "cell_type": "markdown",
   "metadata": {},
   "source": [
    "At this point we have created our new DataFrame.\n",
    "\n",
    "Before we begin exploring a possible relationship between these features, we should look at a few visualizations to gain a greater insight into possible skewness and limitations of our data. We will look at a pie chart of the value counts of the different Star ratings as well as the Sentiments to see what the distributions will be. We will also look at a bar chart of the distribution between positive and negative reviews for the different star ratings."
   ]
  },
  {
   "cell_type": "code",
   "execution_count": 3,
   "metadata": {},
   "outputs": [
    {
     "data": {
      "text/plain": [
       "<AxesSubplot:title={'center':'Value Counts of Star Ratings'}, ylabel='Stars'>"
      ]
     },
     "execution_count": 3,
     "metadata": {},
     "output_type": "execute_result"
    },
    {
     "data": {
      "image/png": "[encoded data removed]",
      "text/plain": [
       "<Figure size 432x288 with 1 Axes>"
      ]
     },
     "metadata": {},
     "output_type": "display_data"
    }
   ],
   "source": [
    "# Plots the value counts of Star ratings\n",
    "analysisDF.Stars.value_counts().plot(kind=\"pie\", autopct=\"%1.0f%%\", title= \"Value Counts of Star Ratings\")"
   ]
  },
  {
   "cell_type": "markdown",
   "metadata": {},
   "source": [
    "From this chart we can see that about half of all reviews gave out 5 stars and only about 20% gave out 1, 2, and 3 star reviews combined. This tells us there is some clear skewness in the distribution of star ratings which can have negative effects on our analysis. Particularly, it may lead to multiple reviews with 5 stars but a negative sentiment."
   ]
  },
  {
   "cell_type": "code",
   "execution_count": 4,
   "metadata": {},
   "outputs": [
    {
     "data": {
      "text/plain": [
       "<AxesSubplot:title={'center':'Value Counts of Sentiment'}, ylabel='Sentiment'>"
      ]
     },
     "execution_count": 4,
     "metadata": {},
     "output_type": "execute_result"
    },
    {
     "data": {
      "image/png": "[encoded data removed]",
      "text/plain": [
       "<Figure size 432x288 with 1 Axes>"
      ]
     },
     "metadata": {},
     "output_type": "display_data"
    }
   ],
   "source": [
    "# Plots the value counts of Sentiment\n",
    "analysisDF.Sentiment.value_counts().plot(kind=\"pie\", autopct=\"%1.0f%%\", title= \"Value Counts of Sentiment\")"
   ]
  },
  {
   "cell_type": "markdown",
   "metadata": {},
   "source": [
    "From this chart we can see that the vast majority of reviews have positive sentiment. This also tells us there is some skewness in the data, possibly due to limitations in the method used to obtain the sentiments of each review. While the vast majority of reviews recieved 4 or 5 stars, we can see there is still a portion of positive reviews that must have come from low starred reviews."
   ]
  },
  {
   "cell_type": "code",
   "execution_count": 5,
   "metadata": {},
   "outputs": [
    {
     "data": {
      "text/html": [
       "<div>\n",
       "<style scoped>\n",
       "    .dataframe tbody tr th:only-of-type {\n",
       "        vertical-align: middle;\n",
       "    }\n",
       "\n",
       "    .dataframe tbody tr th {\n",
       "        vertical-align: top;\n",
       "    }\n",
       "\n",
       "    .dataframe thead th {\n",
       "        text-align: right;\n",
       "    }\n",
       "</style>\n",
       "<table border=\"1\" class=\"dataframe\">\n",
       "  <thead>\n",
       "    <tr style=\"text-align: right;\">\n",
       "      <th>Sentiment</th>\n",
       "      <th>Negative</th>\n",
       "      <th>Positive</th>\n",
       "    </tr>\n",
       "    <tr>\n",
       "      <th>Stars</th>\n",
       "      <th></th>\n",
       "      <th></th>\n",
       "    </tr>\n",
       "  </thead>\n",
       "  <tbody>\n",
       "    <tr>\n",
       "      <th>1.0</th>\n",
       "      <td>26</td>\n",
       "      <td>38</td>\n",
       "    </tr>\n",
       "    <tr>\n",
       "      <th>2.0</th>\n",
       "      <td>19</td>\n",
       "      <td>98</td>\n",
       "    </tr>\n",
       "    <tr>\n",
       "      <th>3.0</th>\n",
       "      <td>11</td>\n",
       "      <td>144</td>\n",
       "    </tr>\n",
       "    <tr>\n",
       "      <th>4.0</th>\n",
       "      <td>23</td>\n",
       "      <td>448</td>\n",
       "    </tr>\n",
       "    <tr>\n",
       "      <th>5.0</th>\n",
       "      <td>31</td>\n",
       "      <td>817</td>\n",
       "    </tr>\n",
       "  </tbody>\n",
       "</table>\n",
       "</div>"
      ],
      "text/plain": [
       "Sentiment  Negative  Positive\n",
       "Stars                        \n",
       "1.0              26        38\n",
       "2.0              19        98\n",
       "3.0              11       144\n",
       "4.0              23       448\n",
       "5.0              31       817"
      ]
     },
     "execution_count": 5,
     "metadata": {},
     "output_type": "execute_result"
    },
    {
     "data": {
      "image/png": "[encoded data removed]",
      "text/plain": [
       "<Figure size 432x288 with 1 Axes>"
      ]
     },
     "metadata": {
      "needs_background": "light"
     },
     "output_type": "display_data"
    }
   ],
   "source": [
    "sentiments = analysisDF.groupby(['Stars','Sentiment']).Sentiment.count().unstack()\n",
    "sentiments.plot(kind=\"bar\")\n",
    "sentiments"
   ]
  },
  {
   "cell_type": "markdown",
   "metadata": {},
   "source": [
    "From this chart we can clearly see there is error in our sentiment analysis. For example, there were 31 reviews that gained 5 stars but were classified as negative. Furthermore, there were 98 reviews that gained 2 stars but were classified as positive, making there more positive than negative 1 star ratings. This tells us there must have been 5 star reviews with a negative relationship between their use of positive and negative words, as well as 1 and 2 star reviews with a positive relationship between their use of positive and negative words. This is a caveat of working with text analysis, and is likely due to the author's syntax.\n",
    "\n",
    "Now that we have visualized the data and covered possible issues and shortcomings from it, we can perform correlation and regression analysis to understand if there is a relationship between the features. In order to do this we must first change the positive and negative sentiments to 1 and -1, respectively. "
   ]
  },
  {
   "cell_type": "code",
   "execution_count": 6,
   "metadata": {},
   "outputs": [
    {
     "name": "stdout",
     "output_type": "stream",
     "text": [
      "-0.19592599859946905 -0.0020554387012207942 0.2507463740086936\n"
     ]
    }
   ],
   "source": [
    "# New DataFrame only with the numerical sentiments\n",
    "analysisDF[\"num_sentiment\"] = analysisDF.Sentiment.map(lambda s: 1 if s == \"Positive\" else -1)\n",
    "regDF = analysisDF.drop(\"Sentiment\", axis=1)\n",
    "\n",
    "# Find the correlation between the features\n",
    "len_stars = regDF.Length.corr(regDF.Stars)\n",
    "len_sent = regDF.Length.corr(regDF.num_sentiment)\n",
    "stars_sent = regDF.Stars.corr(regDF.num_sentiment)\n",
    "\n",
    "print(len_stars, len_sent, stars_sent)"
   ]
  },
  {
   "cell_type": "markdown",
   "metadata": {},
   "source": [
    "From the above correlation calculations, there appears to be a small relationship between the number of stars and the sentiment, which is to be expected. Furthermore the big take away from the above cell is that length does not appear to affect the rating or the sentiment of any reviews.\n",
    "\n",
    "Now lets try to see how well we can predict the star rating of reviews based on sentiment and length using a multiple linear regression model."
   ]
  },
  {
   "cell_type": "code",
   "execution_count": 7,
   "metadata": {},
   "outputs": [
    {
     "data": {
      "text/plain": [
       "<AxesSubplot:ylabel='Frequency'>"
      ]
     },
     "execution_count": 7,
     "metadata": {},
     "output_type": "execute_result"
    },
    {
     "data": {
      "image/png": "[encoded data removed]",
      "text/plain": [
       "<Figure size 432x288 with 1 Axes>"
      ]
     },
     "metadata": {
      "needs_background": "light"
     },
     "output_type": "display_data"
    }
   ],
   "source": [
    "from sklearn.linear_model import LinearRegression\n",
    "\n",
    "inputs = regDF.loc[:,[\"Length\", \"num_sentiment\"]]\n",
    "lm = LinearRegression()\n",
    "lm.fit(inputs, regDF.Stars)\n",
    "\n",
    "regDF[\"StarsPredicted\"] = lm.predict(inputs)\n",
    "regDF.StarsPredicted\n",
    "\n",
    "error = regDF.Stars - regDF.StarsPredicted\n",
    "\n",
    "error.plot.hist(bins=10)"
   ]
  },
  {
   "cell_type": "markdown",
   "metadata": {},
   "source": [
    "We can see from the plot above that our regression model was fairly good, but not great, at predicting the star ratings of different reviews, with most of the error falling in the range from 0.5 to 1 stars off. \n",
    "\n",
    "While this model does provide a prediction of the star rating with use of the other features, lets now try to use a decision tree to predict star rating and see how its predictions compare to the regression model's. In addition, we will use testing data in our decision tree regression."
   ]
  },
  {
   "cell_type": "code",
   "execution_count": 77,
   "metadata": {},
   "outputs": [
    {
     "name": "stdout",
     "output_type": "stream",
     "text": [
      "Mean Absolute Error: 0.9276808129991433\n"
     ]
    },
    {
     "data": {
      "text/plain": [
       "4.1613293051359515"
      ]
     },
     "execution_count": 77,
     "metadata": {},
     "output_type": "execute_result"
    }
   ],
   "source": [
    "from sklearn.model_selection import train_test_split\n",
    "from sklearn.tree import DecisionTreeRegressor\n",
    "from sklearn import metrics\n",
    "\n",
    "x = regDF.drop([\"Stars\", \"StarsPredicted\"], axis=1)\n",
    "y = regDF.Stars\n",
    "\n",
    "(x_train, x_test, y_train, y_test) = train_test_split(x, y, test_size=0.25)\n",
    "\n",
    "regressor = DecisionTreeRegressor()\n",
    "regressor.fit(x_train,y_train)\n",
    "\n",
    "y_pred = regressor.predict(x_test)\n",
    "\n",
    "print('Mean Absolute Error:', metrics.mean_absolute_error(y_test, y_pred))\n",
    "regDF.Stars.mean()\n",
    "\n"
   ]
  },
  {
   "cell_type": "markdown",
   "metadata": {},
   "source": [
    "From this regression model we can see that the decision tree is also not very accurate in its predictions of the star ratings. We can see that the mean absolute error in these predictions is around 20% of the total mean of the star ratings, which is not a good prediction error rate. This means that there does not appear to be a strong relationship between review sentiment, review length, and star rating of reviews. In addition, this also means that we will not be able to accurately predict suggested star ratings for authors. In the future, it might be helpful to have a more even distribution of star ratings as well as an improved method for finding sentiments. "
   ]
  }
 ],
 "metadata": {
  "kernelspec": {
   "display_name": "Python 3 (ipykernel)",
   "language": "python",
   "name": "python3"
  },
  "language_info": {
   "codemirror_mode": {
    "name": "ipython",
    "version": 3
   },
   "file_extension": ".py",
   "mimetype": "text/x-python",
   "name": "python",
   "nbconvert_exporter": "python",
   "pygments_lexer": "ipython3",
   "version": "3.8.2"
  }
 },
 "nbformat": 4,
 "nbformat_minor": 4
}
