{
 "cells": [
  {
   "cell_type": "code",
   "execution_count": 1,
   "metadata": {
    "nbgrader": {
     "grade": false,
     "locked": true,
     "schema_version": 1,
     "solution": false
    }
   },
   "outputs": [],
   "source": [
    "# Do not edit this cell\n",
    "\n",
    "# course: 3654\n",
    "# a: Homework 6\n",
    "# d: VT"
   ]
  },
  {
   "cell_type": "markdown",
   "metadata": {
    "nbgrader": {
     "grade": false,
     "grade_id": "cell-f6f143fff2d72ef8",
     "locked": true,
     "schema_version": 1,
     "solution": false
    }
   },
   "source": [
    "# Homework 6"
   ]
  },
  {
   "cell_type": "markdown",
   "metadata": {},
   "source": [
    "**Enter your Name:**  Phillip McDonough\n",
    "    \n",
    "**Enter your PID:**  906263051\n",
    "    \n",
    "I have neither given nor received unauthorized assistance on this assignment. See the course sylabus for details on the Honor Code policy. In particular, sharing lines of solution code is prohibited."
   ]
  },
  {
   "cell_type": "code",
   "execution_count": 2,
   "metadata": {
    "nbgrader": {
     "grade": false,
     "grade_id": "cell-802d0b3d4eb07f67",
     "locked": true,
     "schema_version": 1,
     "solution": false
    }
   },
   "outputs": [
    {
     "data": {
      "text/plain": [
       "(106, 25)"
      ]
     },
     "execution_count": 2,
     "metadata": {},
     "output_type": "execute_result"
    }
   ],
   "source": [
    "# Run this cell first.  Do NOT edit this cell (but you can uncomment the %matplotlib inline command for testing).\n",
    "Answer1 = Answer2 = Answer3 = Answer4 = Answer5 = dist = None\n",
    "import pandas as pd\n",
    "import numpy as np\n",
    "import matplotlib\n",
    "import matplotlib.pyplot as plt\n",
    "#%matplotlib inline\n",
    "table = pd.read_csv('CS3654-FA21-survey-clean.csv') \n",
    "table.shape"
   ]
  },
  {
   "cell_type": "markdown",
   "metadata": {
    "nbgrader": {
     "grade": false,
     "grade_id": "cell-4ffa7570e138d851",
     "locked": true,
     "schema_version": 1,
     "solution": false
    }
   },
   "source": [
    "**Problem 1. (20 points)** Define a distance function, called *dist(i,j)*, that returns the L1 distance  between any two given students in the z-score normalized survey data. For quantitative columns, use z-score normalized data (do not include the Name column in the distance metric). You must write your own code for this metric, you cannot use a library method that computes distances.  Parameters i & j are indices of rows in the original table, and the function returns a float.  For example, the dist between the first two people (Zain and Nayana) is 18.101287476985082.  Return your distance function in Answer1.  If you return the function successfully, the cell should print something like \"<function \\_\\_main\\_\\_.dist(i, j)>\"."
   ]
  },
  {
   "cell_type": "code",
   "execution_count": 3,
   "metadata": {
    "nbgrader": {
     "grade": false,
     "grade_id": "Answer1",
     "locked": false,
     "schema_version": 1,
     "solution": true
    }
   },
   "outputs": [
    {
     "data": {
      "text/plain": [
       "<function __main__.dist(i, j)>"
      ]
     },
     "execution_count": 3,
     "metadata": {},
     "output_type": "execute_result"
    }
   ],
   "source": [
    "# Problem 1\n",
    "# Insert your work here\n",
    "\n",
    "zDF = (table.iloc[:,2:] - table.iloc[:,2:].mean()) / table.iloc[:,2:].std()\n",
    "\n",
    "def dist(i,j):\n",
    "    student1 = zDF.iloc[i,:]\n",
    "    student2 = zDF.iloc[j,:]\n",
    "    return (student1-student2).abs().sum()\n",
    "\n",
    "Answer1 = dist\n",
    "Answer1"
   ]
  },
  {
   "cell_type": "markdown",
   "metadata": {
    "nbgrader": {
     "grade": false,
     "grade_id": "cell-15c138e4f43d9c64",
     "locked": true,
     "schema_version": 1,
     "solution": false
    }
   },
   "source": [
    "**Problem 2. (20 points)** Compute the n x n distance matrix over all pairs of people in the survey, using your distance function from Problem 1. The matrix should be in the same row order as the data file. Represent the distance matrix as a pd.DataFrame(dtype=float,...). You may need to consider the efficiency of your dist() solution and your matrix computation, but don't worry if it takes ~10 seconds or so to run.  Return the matrix as Answer2."
   ]
  },
  {
   "cell_type": "code",
   "execution_count": 4,
   "metadata": {
    "nbgrader": {
     "grade": false,
     "grade_id": "Answer2",
     "locked": false,
     "schema_version": 1,
     "solution": true
    }
   },
   "outputs": [
    {
     "data": {
      "text/html": [
       "<div>\n",
       "<style scoped>\n",
       "    .dataframe tbody tr th:only-of-type {\n",
       "        vertical-align: middle;\n",
       "    }\n",
       "\n",
       "    .dataframe tbody tr th {\n",
       "        vertical-align: top;\n",
       "    }\n",
       "\n",
       "    .dataframe thead th {\n",
       "        text-align: right;\n",
       "    }\n",
       "</style>\n",
       "<table border=\"1\" class=\"dataframe\">\n",
       "  <thead>\n",
       "    <tr style=\"text-align: right;\">\n",
       "      <th>Name</th>\n",
       "      <th>Zain</th>\n",
       "      <th>Nayana</th>\n",
       "      <th>Crystal</th>\n",
       "      <th>Ashwin</th>\n",
       "      <th>Hyesoo</th>\n",
       "      <th>Tashi</th>\n",
       "      <th>Philip</th>\n",
       "      <th>Timothy</th>\n",
       "      <th>Nick</th>\n",
       "      <th>John Dugan</th>\n",
       "      <th>...</th>\n",
       "      <th>Megan</th>\n",
       "      <th>Nick Casale</th>\n",
       "      <th>Ariel</th>\n",
       "      <th>Alan</th>\n",
       "      <th>Phillip</th>\n",
       "      <th>John D</th>\n",
       "      <th>Raymond</th>\n",
       "      <th>Renny1111</th>\n",
       "      <th>Jordan</th>\n",
       "      <th>John</th>\n",
       "    </tr>\n",
       "    <tr>\n",
       "      <th>Name</th>\n",
       "      <th></th>\n",
       "      <th></th>\n",
       "      <th></th>\n",
       "      <th></th>\n",
       "      <th></th>\n",
       "      <th></th>\n",
       "      <th></th>\n",
       "      <th></th>\n",
       "      <th></th>\n",
       "      <th></th>\n",
       "      <th></th>\n",
       "      <th></th>\n",
       "      <th></th>\n",
       "      <th></th>\n",
       "      <th></th>\n",
       "      <th></th>\n",
       "      <th></th>\n",
       "      <th></th>\n",
       "      <th></th>\n",
       "      <th></th>\n",
       "      <th></th>\n",
       "    </tr>\n",
       "  </thead>\n",
       "  <tbody>\n",
       "    <tr>\n",
       "      <th>Zain</th>\n",
       "      <td>0</td>\n",
       "      <td>18.1013</td>\n",
       "      <td>24.2568</td>\n",
       "      <td>15.5036</td>\n",
       "      <td>27.9723</td>\n",
       "      <td>14.7264</td>\n",
       "      <td>18.3126</td>\n",
       "      <td>20.7377</td>\n",
       "      <td>11.8824</td>\n",
       "      <td>12.4951</td>\n",
       "      <td>...</td>\n",
       "      <td>17.4977</td>\n",
       "      <td>13.6527</td>\n",
       "      <td>19.1052</td>\n",
       "      <td>11.7072</td>\n",
       "      <td>16.0143</td>\n",
       "      <td>28.5665</td>\n",
       "      <td>22.0801</td>\n",
       "      <td>14.7887</td>\n",
       "      <td>31.4562</td>\n",
       "      <td>44.5435</td>\n",
       "    </tr>\n",
       "    <tr>\n",
       "      <th>Nayana</th>\n",
       "      <td>18.1013</td>\n",
       "      <td>0</td>\n",
       "      <td>21.0731</td>\n",
       "      <td>23.9147</td>\n",
       "      <td>27.7681</td>\n",
       "      <td>17.7458</td>\n",
       "      <td>23.7186</td>\n",
       "      <td>32.5609</td>\n",
       "      <td>14.9235</td>\n",
       "      <td>20.5471</td>\n",
       "      <td>...</td>\n",
       "      <td>25.8957</td>\n",
       "      <td>19.4454</td>\n",
       "      <td>27.8429</td>\n",
       "      <td>20.5978</td>\n",
       "      <td>19.895</td>\n",
       "      <td>35.2607</td>\n",
       "      <td>25.0488</td>\n",
       "      <td>18.0882</td>\n",
       "      <td>31.7231</td>\n",
       "      <td>52.3117</td>\n",
       "    </tr>\n",
       "    <tr>\n",
       "      <th>Crystal</th>\n",
       "      <td>24.2568</td>\n",
       "      <td>21.0731</td>\n",
       "      <td>0</td>\n",
       "      <td>22.561</td>\n",
       "      <td>27.5937</td>\n",
       "      <td>20.0986</td>\n",
       "      <td>17.8868</td>\n",
       "      <td>33.0372</td>\n",
       "      <td>23.3547</td>\n",
       "      <td>24.0247</td>\n",
       "      <td>...</td>\n",
       "      <td>18.6644</td>\n",
       "      <td>19.8314</td>\n",
       "      <td>25.4776</td>\n",
       "      <td>20.4689</td>\n",
       "      <td>27.6891</td>\n",
       "      <td>37.8355</td>\n",
       "      <td>25.5809</td>\n",
       "      <td>24.8229</td>\n",
       "      <td>31.5897</td>\n",
       "      <td>44.9844</td>\n",
       "    </tr>\n",
       "    <tr>\n",
       "      <th>Ashwin</th>\n",
       "      <td>15.5036</td>\n",
       "      <td>23.9147</td>\n",
       "      <td>22.561</td>\n",
       "      <td>0</td>\n",
       "      <td>31.599</td>\n",
       "      <td>19.0258</td>\n",
       "      <td>14.5719</td>\n",
       "      <td>25.3616</td>\n",
       "      <td>13.7354</td>\n",
       "      <td>18.0227</td>\n",
       "      <td>...</td>\n",
       "      <td>16.2007</td>\n",
       "      <td>14.2728</td>\n",
       "      <td>19.983</td>\n",
       "      <td>13.3481</td>\n",
       "      <td>25.2844</td>\n",
       "      <td>30.7521</td>\n",
       "      <td>20.6932</td>\n",
       "      <td>19.6428</td>\n",
       "      <td>30.5133</td>\n",
       "      <td>42.9456</td>\n",
       "    </tr>\n",
       "    <tr>\n",
       "      <th>Hyesoo</th>\n",
       "      <td>27.9723</td>\n",
       "      <td>27.7681</td>\n",
       "      <td>27.5937</td>\n",
       "      <td>31.599</td>\n",
       "      <td>0</td>\n",
       "      <td>27.9539</td>\n",
       "      <td>27.5183</td>\n",
       "      <td>28.6985</td>\n",
       "      <td>27.5662</td>\n",
       "      <td>26.4014</td>\n",
       "      <td>...</td>\n",
       "      <td>26.4829</td>\n",
       "      <td>28.0943</td>\n",
       "      <td>26.3897</td>\n",
       "      <td>24.1446</td>\n",
       "      <td>24.3239</td>\n",
       "      <td>41.872</td>\n",
       "      <td>28.5478</td>\n",
       "      <td>28.0197</td>\n",
       "      <td>40.069</td>\n",
       "      <td>51.8984</td>\n",
       "    </tr>\n",
       "    <tr>\n",
       "      <th>...</th>\n",
       "      <td>...</td>\n",
       "      <td>...</td>\n",
       "      <td>...</td>\n",
       "      <td>...</td>\n",
       "      <td>...</td>\n",
       "      <td>...</td>\n",
       "      <td>...</td>\n",
       "      <td>...</td>\n",
       "      <td>...</td>\n",
       "      <td>...</td>\n",
       "      <td>...</td>\n",
       "      <td>...</td>\n",
       "      <td>...</td>\n",
       "      <td>...</td>\n",
       "      <td>...</td>\n",
       "      <td>...</td>\n",
       "      <td>...</td>\n",
       "      <td>...</td>\n",
       "      <td>...</td>\n",
       "      <td>...</td>\n",
       "      <td>...</td>\n",
       "    </tr>\n",
       "    <tr>\n",
       "      <th>John D</th>\n",
       "      <td>28.5665</td>\n",
       "      <td>35.2607</td>\n",
       "      <td>37.8355</td>\n",
       "      <td>30.7521</td>\n",
       "      <td>41.872</td>\n",
       "      <td>27.5797</td>\n",
       "      <td>34.3784</td>\n",
       "      <td>38.3441</td>\n",
       "      <td>30.7934</td>\n",
       "      <td>28.7718</td>\n",
       "      <td>...</td>\n",
       "      <td>32.2827</td>\n",
       "      <td>31.174</td>\n",
       "      <td>38.5193</td>\n",
       "      <td>29.7153</td>\n",
       "      <td>29.0405</td>\n",
       "      <td>0</td>\n",
       "      <td>42.5987</td>\n",
       "      <td>26.0782</td>\n",
       "      <td>38.2623</td>\n",
       "      <td>54.4449</td>\n",
       "    </tr>\n",
       "    <tr>\n",
       "      <th>Raymond</th>\n",
       "      <td>22.0801</td>\n",
       "      <td>25.0488</td>\n",
       "      <td>25.5809</td>\n",
       "      <td>20.6932</td>\n",
       "      <td>28.5478</td>\n",
       "      <td>23.5716</td>\n",
       "      <td>22.5692</td>\n",
       "      <td>22.9758</td>\n",
       "      <td>20.6803</td>\n",
       "      <td>21.4923</td>\n",
       "      <td>...</td>\n",
       "      <td>23.5914</td>\n",
       "      <td>28.2659</td>\n",
       "      <td>21.4586</td>\n",
       "      <td>18.9953</td>\n",
       "      <td>26.5178</td>\n",
       "      <td>42.5987</td>\n",
       "      <td>0</td>\n",
       "      <td>25.8618</td>\n",
       "      <td>39.506</td>\n",
       "      <td>45.4941</td>\n",
       "    </tr>\n",
       "    <tr>\n",
       "      <th>Renny1111</th>\n",
       "      <td>14.7887</td>\n",
       "      <td>18.0882</td>\n",
       "      <td>24.8229</td>\n",
       "      <td>19.6428</td>\n",
       "      <td>28.0197</td>\n",
       "      <td>14.8185</td>\n",
       "      <td>18.816</td>\n",
       "      <td>24.2975</td>\n",
       "      <td>15.3575</td>\n",
       "      <td>20.4871</td>\n",
       "      <td>...</td>\n",
       "      <td>18.2847</td>\n",
       "      <td>20.3004</td>\n",
       "      <td>27.156</td>\n",
       "      <td>17.2396</td>\n",
       "      <td>15.1623</td>\n",
       "      <td>26.0782</td>\n",
       "      <td>25.8618</td>\n",
       "      <td>0</td>\n",
       "      <td>23.4981</td>\n",
       "      <td>46.011</td>\n",
       "    </tr>\n",
       "    <tr>\n",
       "      <th>Jordan</th>\n",
       "      <td>31.4562</td>\n",
       "      <td>31.7231</td>\n",
       "      <td>31.5897</td>\n",
       "      <td>30.5133</td>\n",
       "      <td>40.069</td>\n",
       "      <td>35.7068</td>\n",
       "      <td>32.8466</td>\n",
       "      <td>42.5971</td>\n",
       "      <td>31.3821</td>\n",
       "      <td>31.9778</td>\n",
       "      <td>...</td>\n",
       "      <td>32.687</td>\n",
       "      <td>32.0684</td>\n",
       "      <td>44.6643</td>\n",
       "      <td>31.0489</td>\n",
       "      <td>35.0856</td>\n",
       "      <td>38.2623</td>\n",
       "      <td>39.506</td>\n",
       "      <td>23.4981</td>\n",
       "      <td>0</td>\n",
       "      <td>59.4524</td>\n",
       "    </tr>\n",
       "    <tr>\n",
       "      <th>John</th>\n",
       "      <td>44.5435</td>\n",
       "      <td>52.3117</td>\n",
       "      <td>44.9844</td>\n",
       "      <td>42.9456</td>\n",
       "      <td>51.8984</td>\n",
       "      <td>46.7976</td>\n",
       "      <td>43.7731</td>\n",
       "      <td>31.7998</td>\n",
       "      <td>51.0426</td>\n",
       "      <td>48.3653</td>\n",
       "      <td>...</td>\n",
       "      <td>41.902</td>\n",
       "      <td>45.5865</td>\n",
       "      <td>38.9532</td>\n",
       "      <td>44.0215</td>\n",
       "      <td>45.8795</td>\n",
       "      <td>54.4449</td>\n",
       "      <td>45.4941</td>\n",
       "      <td>46.011</td>\n",
       "      <td>59.4524</td>\n",
       "      <td>0</td>\n",
       "    </tr>\n",
       "  </tbody>\n",
       "</table>\n",
       "<p>106 rows × 106 columns</p>\n",
       "</div>"
      ],
      "text/plain": [
       "Name          Zain   Nayana  Crystal   Ashwin   Hyesoo    Tashi   Philip  \\\n",
       "Name                                                                       \n",
       "Zain             0  18.1013  24.2568  15.5036  27.9723  14.7264  18.3126   \n",
       "Nayana     18.1013        0  21.0731  23.9147  27.7681  17.7458  23.7186   \n",
       "Crystal    24.2568  21.0731        0   22.561  27.5937  20.0986  17.8868   \n",
       "Ashwin     15.5036  23.9147   22.561        0   31.599  19.0258  14.5719   \n",
       "Hyesoo     27.9723  27.7681  27.5937   31.599        0  27.9539  27.5183   \n",
       "...            ...      ...      ...      ...      ...      ...      ...   \n",
       "John D     28.5665  35.2607  37.8355  30.7521   41.872  27.5797  34.3784   \n",
       "Raymond    22.0801  25.0488  25.5809  20.6932  28.5478  23.5716  22.5692   \n",
       "Renny1111  14.7887  18.0882  24.8229  19.6428  28.0197  14.8185   18.816   \n",
       "Jordan     31.4562  31.7231  31.5897  30.5133   40.069  35.7068  32.8466   \n",
       "John       44.5435  52.3117  44.9844  42.9456  51.8984  46.7976  43.7731   \n",
       "\n",
       "Name       Timothy     Nick John Dugan  ...    Megan Nick Casale    Ariel  \\\n",
       "Name                                    ...                                 \n",
       "Zain       20.7377  11.8824    12.4951  ...  17.4977     13.6527  19.1052   \n",
       "Nayana     32.5609  14.9235    20.5471  ...  25.8957     19.4454  27.8429   \n",
       "Crystal    33.0372  23.3547    24.0247  ...  18.6644     19.8314  25.4776   \n",
       "Ashwin     25.3616  13.7354    18.0227  ...  16.2007     14.2728   19.983   \n",
       "Hyesoo     28.6985  27.5662    26.4014  ...  26.4829     28.0943  26.3897   \n",
       "...            ...      ...        ...  ...      ...         ...      ...   \n",
       "John D     38.3441  30.7934    28.7718  ...  32.2827      31.174  38.5193   \n",
       "Raymond    22.9758  20.6803    21.4923  ...  23.5914     28.2659  21.4586   \n",
       "Renny1111  24.2975  15.3575    20.4871  ...  18.2847     20.3004   27.156   \n",
       "Jordan     42.5971  31.3821    31.9778  ...   32.687     32.0684  44.6643   \n",
       "John       31.7998  51.0426    48.3653  ...   41.902     45.5865  38.9532   \n",
       "\n",
       "Name          Alan  Phillip   John D  Raymond Renny1111   Jordan     John  \n",
       "Name                                                                       \n",
       "Zain       11.7072  16.0143  28.5665  22.0801   14.7887  31.4562  44.5435  \n",
       "Nayana     20.5978   19.895  35.2607  25.0488   18.0882  31.7231  52.3117  \n",
       "Crystal    20.4689  27.6891  37.8355  25.5809   24.8229  31.5897  44.9844  \n",
       "Ashwin     13.3481  25.2844  30.7521  20.6932   19.6428  30.5133  42.9456  \n",
       "Hyesoo     24.1446  24.3239   41.872  28.5478   28.0197   40.069  51.8984  \n",
       "...            ...      ...      ...      ...       ...      ...      ...  \n",
       "John D     29.7153  29.0405        0  42.5987   26.0782  38.2623  54.4449  \n",
       "Raymond    18.9953  26.5178  42.5987        0   25.8618   39.506  45.4941  \n",
       "Renny1111  17.2396  15.1623  26.0782  25.8618         0  23.4981   46.011  \n",
       "Jordan     31.0489  35.0856  38.2623   39.506   23.4981        0  59.4524  \n",
       "John       44.0215  45.8795  54.4449  45.4941    46.011  59.4524        0  \n",
       "\n",
       "[106 rows x 106 columns]"
      ]
     },
     "execution_count": 4,
     "metadata": {},
     "output_type": "execute_result"
    }
   ],
   "source": [
    "# Problem 2\n",
    "# Insert your work here\n",
    "\n",
    "Answer2 = pd.DataFrame(index=table.Name, columns=table.Name)\n",
    "\n",
    "for i in zDF.index:\n",
    "    for j in zDF.index:\n",
    "        Answer2.iloc[i,j] = dist(i,j)\n",
    "\n",
    "Answer2"
   ]
  },
  {
   "cell_type": "markdown",
   "metadata": {
    "nbgrader": {
     "grade": false,
     "grade_id": "cell-568d6dbedd1d1c4a",
     "locked": true,
     "schema_version": 1,
     "solution": false
    }
   },
   "source": [
    "**Problem 3. (20 points)**  Who are the closest and farthest pairs of people?  Hints: use NaN on the matrix diagonal to eliminate the 0 self distances from consideration; note the distinction between the min() and idxmin() functions. \n",
    "\n",
    "In Answer3, return the result in the following tuple of tuples form:\n",
    "\n",
    "`((name1, name2, distance12),   # closest pair, name1 < name2 (alphabetized)\n",
    " (name3, name4, distance34))   # farthest pair, name3 < name4 (alphabetized)`\n",
    "\n",
    "*Think & Try: Who is most like you?*"
   ]
  },
  {
   "cell_type": "code",
   "execution_count": 5,
   "metadata": {
    "nbgrader": {
     "grade": false,
     "grade_id": "Answer3",
     "locked": false,
     "schema_version": 1,
     "solution": true
    }
   },
   "outputs": [
    {
     "data": {
      "text/plain": [
       "(('Eshan', 'Zain', 7.626526268401079), ('John', 'Jordan', 59.45235143698092))"
      ]
     },
     "execution_count": 5,
     "metadata": {},
     "output_type": "execute_result"
    }
   ],
   "source": [
    "# Problem 3\n",
    "# Insert your work here\n",
    "nanDF = Answer2.copy()\n",
    "np.fill_diagonal(nanDF.values, np.NaN)\n",
    "\n",
    "min_pair = [nanDF.min().idxmin(), nanDF[nanDF.loc[nanDF.min().idxmin()] == nanDF.min().min()].index[0]]\n",
    "min_pair.sort()\n",
    "\n",
    "max_pair = [nanDF.max().idxmax(), nanDF[nanDF.loc[nanDF.max().idxmax()] == nanDF.max().max()].index[0]]\n",
    "max_pair.sort()\n",
    "\n",
    "closest = (min_pair[0], min_pair[1], nanDF.loc[min_pair[0], min_pair[1]])\n",
    "farthest = (max_pair[0], max_pair[1], nanDF.loc[max_pair[0], max_pair[1]])\n",
    "\n",
    "Answer3 = (closest, farthest)\n",
    "Answer3"
   ]
  },
  {
   "cell_type": "markdown",
   "metadata": {
    "nbgrader": {
     "grade": false,
     "grade_id": "cell-9b67070b93598d3e",
     "locked": true,
     "schema_version": 1,
     "solution": false
    }
   },
   "source": [
    "**Problem 4. (20 points)** Who is most/least like everyone else, based on the mean of each person's distances to all others? Do not include the 0 self distances in the mean computations. (Hint: Series.argsort() might be useful.)  In Answer4, return a list of Names, sorted in order of nearness to everyone else, from nearest to farthest."
   ]
  },
  {
   "cell_type": "code",
   "execution_count": 6,
   "metadata": {
    "nbgrader": {
     "grade": false,
     "grade_id": "Answer4",
     "locked": false,
     "schema_version": 1,
     "solution": true
    }
   },
   "outputs": [
    {
     "data": {
      "text/plain": [
       "['Rami',\n",
       " 'Jason',\n",
       " 'Ian',\n",
       " 'Pranav',\n",
       " 'Zain',\n",
       " 'Gaurav',\n",
       " 'Sam',\n",
       " 'McKenna',\n",
       " 'Eshan',\n",
       " 'Grant',\n",
       " 'Ishan',\n",
       " 'Alan',\n",
       " 'Kyle',\n",
       " 'Brad',\n",
       " 'Alex',\n",
       " 'Sania',\n",
       " 'Nick',\n",
       " 'John Dugan',\n",
       " 'Nick',\n",
       " 'Ali',\n",
       " 'Mystery87541',\n",
       " 'Jared Orendorff',\n",
       " 'Andrew',\n",
       " 'Nadine',\n",
       " 'Cecilia',\n",
       " 'Raphael',\n",
       " 'Colin',\n",
       " 'Ian',\n",
       " 'Nicole',\n",
       " 'Jiale',\n",
       " 'Jay',\n",
       " 'Kaitlyn',\n",
       " 'Mystery54321',\n",
       " 'Renny1111',\n",
       " 'Derek',\n",
       " 'Maxfield',\n",
       " 'Trey',\n",
       " 'Jacob',\n",
       " 'Michael',\n",
       " 'Philip',\n",
       " 'Mystery20018',\n",
       " 'Nikhil',\n",
       " 'Arjun',\n",
       " 'Elizabeth Morin',\n",
       " 'Aparna',\n",
       " 'Nick Casale',\n",
       " 'Ashwin',\n",
       " 'Joseph Wu',\n",
       " 'Tashi',\n",
       " 'Logan',\n",
       " 'Mihir',\n",
       " 'Daniel Petrenko',\n",
       " 'Hanxuan',\n",
       " 'Isabelle',\n",
       " 'Mystery53242',\n",
       " 'Cathy',\n",
       " 'Quinn',\n",
       " 'Phillip',\n",
       " 'Henry',\n",
       " 'Megan',\n",
       " 'Caleb',\n",
       " 'Tyler Hill',\n",
       " 'Michael C.',\n",
       " 'Jackson',\n",
       " 'Luke',\n",
       " 'Mystery12345',\n",
       " 'Emma',\n",
       " 'Mystery69420',\n",
       " 'Casey',\n",
       " 'Nayana',\n",
       " 'Patrick',\n",
       " 'Depeng',\n",
       " 'Esha',\n",
       " 'Pranav',\n",
       " 'Alberto',\n",
       " 'Lilly',\n",
       " 'David',\n",
       " 'Varun Choudhary',\n",
       " 'Sharanya',\n",
       " 'Crystal',\n",
       " 'Kajal Desai',\n",
       " 'Daniel Sabanov',\n",
       " 'Isaiah',\n",
       " 'Ariel',\n",
       " 'Smith',\n",
       " 'Graham',\n",
       " 'Michael',\n",
       " 'Jenna',\n",
       " 'Raymond',\n",
       " 'Mystery81490',\n",
       " 'Felicity',\n",
       " 'Swaggy C',\n",
       " 'Calvin',\n",
       " 'Mounika Abbineni',\n",
       " 'Timothy',\n",
       " 'Patrick Sukovich',\n",
       " 'Hyesoo',\n",
       " 'yoyo',\n",
       " 'Aaron',\n",
       " 'Farzan',\n",
       " 'Yunis',\n",
       " 'mystery99999',\n",
       " 'Abilash Pradeep',\n",
       " 'John D',\n",
       " 'Jordan',\n",
       " 'John']"
      ]
     },
     "execution_count": 6,
     "metadata": {},
     "output_type": "execute_result"
    }
   ],
   "source": [
    "# Problem 4\n",
    "# Insert your work here \n",
    "\n",
    "means = nanDF.mean().argsort()\n",
    "Answer4 = [means.index[i] for i in means]\n",
    "Answer4"
   ]
  },
  {
   "cell_type": "markdown",
   "metadata": {
    "nbgrader": {
     "grade": false,
     "grade_id": "cell-7e008ff38a1730f7",
     "locked": true,
     "schema_version": 1,
     "solution": false
    }
   },
   "source": [
    "**Problem 5. (20 points)** Visualize the distribution of all n^2 distances, including the 0 self distances, as an appropriately labeled KDE plot (kernel density estimation plot https://en.wikipedia.org/wiki/Kernel_density_estimation). Hint: flatten() might be useful. Where is the peak of the most dense portion of the distribtion? Hint: find the plot's curve data in Axes.lines\\[0\\].get_xydata( ) or similar.  Show the plot here, and return a tuple in Answer5 containing: (plot Axes, distance value corresponding to the KDE peak)"
   ]
  },
  {
   "cell_type": "code",
   "execution_count": 7,
   "metadata": {
    "nbgrader": {
     "grade": false,
     "grade_id": "Answer5",
     "locked": false,
     "schema_version": 1,
     "solution": true
    }
   },
   "outputs": [
    {
     "data": {
      "text/plain": [
       "(<AxesSubplot:title={'center':'Distribution of all n^2 Distances'}, ylabel='Density'>,\n",
       " 20.739884360147997)"
      ]
     },
     "execution_count": 7,
     "metadata": {},
     "output_type": "execute_result"
    },
    {
     "data": {
      "image/png": "[encoded data removed]",
      "text/plain": [
       "<Figure size 504x504 with 1 Axes>"
      ]
     },
     "metadata": {
      "needs_background": "light"
     },
     "output_type": "display_data"
    }
   ],
   "source": [
    "# Problem 5\n",
    "# Insert your work here\n",
    "\n",
    "kde_plot = pd.DataFrame(Answer2.copy().values.flatten())\n",
    "kde_plot = kde_plot.plot.kde(figsize=(7,7), title=\"Distribution of all n^2 Distances\")\n",
    "\n",
    "curve_data = kde_plot.lines[0].get_xydata()\n",
    "peak_density = max(curve_data[:,1])\n",
    "peak_distance = float(curve_data[curve_data[:,1] == peak_density, 0])\n",
    "Answer5 = (kde_plot, peak_distance)\n",
    "Answer5"
   ]
  },
  {
   "cell_type": "code",
   "execution_count": 8,
   "metadata": {
    "nbgrader": {}
   },
   "outputs": [],
   "source": [
    "# scratch space\n"
   ]
  }
 ],
 "metadata": {
  "celltoolbar": "Create Assignment",
  "kernelspec": {
   "display_name": "Python 3 (ipykernel)",
   "language": "python",
   "name": "python3"
  },
  "language_info": {
   "codemirror_mode": {
    "name": "ipython",
    "version": 3
   },
   "file_extension": ".py",
   "mimetype": "text/x-python",
   "name": "python",
   "nbconvert_exporter": "python",
   "pygments_lexer": "ipython3",
   "version": "3.8.2"
  }
 },
 "nbformat": 4,
 "nbformat_minor": 2
}
