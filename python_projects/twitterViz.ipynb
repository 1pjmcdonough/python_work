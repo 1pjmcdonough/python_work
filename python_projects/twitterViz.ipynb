{
 "cells": [
  {
   "cell_type": "markdown",
   "metadata": {},
   "source": [
    "Refer to the instructions on Canvas for more information.\n",
    "\n",
    "\"I have neither given nor received help on this assignment.\"\n",
    "\n",
    "author: Phillip McDonough"
   ]
  },
  {
   "cell_type": "code",
   "execution_count": 1,
   "metadata": {},
   "outputs": [
    {
     "name": "stderr",
     "output_type": "stream",
     "text": [
      "<ipython-input-1-ff621baabb68>:31: FutureWarning: pandas.io.json.json_normalize is deprecated, use pandas.json_normalize instead\n",
      "  tweetsDF = pd.io.json.json_normalize(tweetsList, sep='_')\n"
     ]
    },
    {
     "name": "stdout",
     "output_type": "stream",
     "text": [
      "The first tweet from tweetsList is:\n",
      "\n",
      "{'favorite_count': 0,\n",
      " 'lang': 'en',\n",
      " 'location': None,\n",
      " 'retweet_count': 1,\n",
      " 'text': 'Incorrect. #COVID19  IFR is much lower than first assumed. It’s '\n",
      "         'definitely in the range of a severe #flu! \\n'\n",
      "         'Paper from John Ioannidis, published by the #WHO. Total IFR of '\n",
      "         '0.23%. 0.05% for people under the age for 70\\n'\n",
      "         'https://t.co/fZu1XTlnsY \\n'\n",
      "         '6/x https://t.co/y5nftIF3Ch',\n",
      " 'timestamp': 'Sat Nov 07 21:14:49 +0000 2020',\n",
      " 'tweet_entities': {'hashtags': [{'indices': [25, 33], 'text': 'COVID19'},\n",
      "                                 {'indices': [114, 118], 'text': 'flu'}],\n",
      "                    'user_mentions': [{'id': 1061607523504087040,\n",
      "                                       'id_str': '1061607523504087040',\n",
      "                                       'indices': [3, 12],\n",
      "                                       'name': '𓅓Ramon',\n",
      "                                       'screen_name': 'Rapataux'}]},\n",
      " 'user': {'account_created': 'Thu Aug 13 22:03:59 +0000 2020',\n",
      "          'favourites_count': 6704,\n",
      "          'followers_count': 97,\n",
      "          'friends_count': 20,\n",
      "          'name': 'ZedAK',\n",
      "          'screen_name': 'TrdisOprtr',\n",
      "          'statuses_count': 22765,\n",
      "          'verified': False}}\n",
      "\n",
      "\n",
      "The first five tweets from tweetsDF are:\n"
     ]
    },
    {
     "data": {
      "text/html": [
       "<div>\n",
       "<style scoped>\n",
       "    .dataframe tbody tr th:only-of-type {\n",
       "        vertical-align: middle;\n",
       "    }\n",
       "\n",
       "    .dataframe tbody tr th {\n",
       "        vertical-align: top;\n",
       "    }\n",
       "\n",
       "    .dataframe thead th {\n",
       "        text-align: right;\n",
       "    }\n",
       "</style>\n",
       "<table border=\"1\" class=\"dataframe\">\n",
       "  <thead>\n",
       "    <tr style=\"text-align: right;\">\n",
       "      <th></th>\n",
       "      <th>timestamp</th>\n",
       "      <th>text</th>\n",
       "      <th>retweet_count</th>\n",
       "      <th>favorite_count</th>\n",
       "      <th>lang</th>\n",
       "      <th>location</th>\n",
       "      <th>user_name</th>\n",
       "      <th>user_screen_name</th>\n",
       "      <th>user_followers_count</th>\n",
       "      <th>user_friends_count</th>\n",
       "      <th>user_favourites_count</th>\n",
       "      <th>user_statuses_count</th>\n",
       "      <th>user_verified</th>\n",
       "      <th>user_account_created</th>\n",
       "      <th>tweet_entities_hashtags</th>\n",
       "      <th>tweet_entities_user_mentions</th>\n",
       "      <th>location_type</th>\n",
       "      <th>location_coordinates</th>\n",
       "    </tr>\n",
       "  </thead>\n",
       "  <tbody>\n",
       "    <tr>\n",
       "      <th>0</th>\n",
       "      <td>Sat Nov 07 21:14:49 +0000 2020</td>\n",
       "      <td>Incorrect. #COVID19  IFR is much lower than fi...</td>\n",
       "      <td>1</td>\n",
       "      <td>0</td>\n",
       "      <td>en</td>\n",
       "      <td>NaN</td>\n",
       "      <td>ZedAK</td>\n",
       "      <td>TrdisOprtr</td>\n",
       "      <td>97</td>\n",
       "      <td>20</td>\n",
       "      <td>6704</td>\n",
       "      <td>22765</td>\n",
       "      <td>False</td>\n",
       "      <td>Thu Aug 13 22:03:59 +0000 2020</td>\n",
       "      <td>[{'text': 'COVID19', 'indices': [25, 33]}, {'t...</td>\n",
       "      <td>[{'screen_name': 'Rapataux', 'name': '𓅓Ramon',...</td>\n",
       "      <td>NaN</td>\n",
       "      <td>NaN</td>\n",
       "    </tr>\n",
       "    <tr>\n",
       "      <th>1</th>\n",
       "      <td>Sat Nov 07 21:14:49 +0000 2020</td>\n",
       "      <td>@HistoireSecrete ALERTE - 86 852 cas de #coron...</td>\n",
       "      <td>0</td>\n",
       "      <td>0</td>\n",
       "      <td>fr</td>\n",
       "      <td>NaN</td>\n",
       "      <td>Thierry</td>\n",
       "      <td>____Thierry____</td>\n",
       "      <td>1824</td>\n",
       "      <td>4972</td>\n",
       "      <td>114045</td>\n",
       "      <td>52635</td>\n",
       "      <td>False</td>\n",
       "      <td>Sun Sep 15 20:02:17 +0000 2013</td>\n",
       "      <td>[{'text': 'coronavirus', 'indices': [40, 52]},...</td>\n",
       "      <td>[{'screen_name': 'HistoireSecrete', 'name': '#...</td>\n",
       "      <td>NaN</td>\n",
       "      <td>NaN</td>\n",
       "    </tr>\n",
       "    <tr>\n",
       "      <th>2</th>\n",
       "      <td>Sat Nov 07 21:14:49 +0000 2020</td>\n",
       "      <td>Nous retiendrons les noms des #playmobils, #tr...</td>\n",
       "      <td>3</td>\n",
       "      <td>0</td>\n",
       "      <td>fr</td>\n",
       "      <td>NaN</td>\n",
       "      <td>PRODIGY ♥ PRODIGE ☮ Anti fascisme EM 🖕</td>\n",
       "      <td>tpmetadone21</td>\n",
       "      <td>2290</td>\n",
       "      <td>1086</td>\n",
       "      <td>535</td>\n",
       "      <td>62621</td>\n",
       "      <td>False</td>\n",
       "      <td>Wed Aug 03 11:36:53 +0000 2011</td>\n",
       "      <td>[{'text': 'playmobils', 'indices': [46, 57]}, ...</td>\n",
       "      <td>[{'screen_name': 'LalobaRose', 'name': '🃏 Rosi...</td>\n",
       "      <td>NaN</td>\n",
       "      <td>NaN</td>\n",
       "    </tr>\n",
       "    <tr>\n",
       "      <th>3</th>\n",
       "      <td>Sat Nov 07 21:14:49 +0000 2020</td>\n",
       "      <td>Congratulations, @JoeBiden. \\n\\nTogether, we h...</td>\n",
       "      <td>4412</td>\n",
       "      <td>0</td>\n",
       "      <td>en</td>\n",
       "      <td>NaN</td>\n",
       "      <td>Tim</td>\n",
       "      <td>russelltim151</td>\n",
       "      <td>2187</td>\n",
       "      <td>1100</td>\n",
       "      <td>329200</td>\n",
       "      <td>830105</td>\n",
       "      <td>False</td>\n",
       "      <td>Fri Nov 28 19:47:49 +0000 2014</td>\n",
       "      <td>[{'text': 'ClimateEmergency', 'indices': [84, ...</td>\n",
       "      <td>[{'screen_name': 'FijiPM', 'name': 'Frank Bain...</td>\n",
       "      <td>NaN</td>\n",
       "      <td>NaN</td>\n",
       "    </tr>\n",
       "    <tr>\n",
       "      <th>4</th>\n",
       "      <td>Sat Nov 07 21:14:49 +0000 2020</td>\n",
       "      <td>🇷 ALERTE - 86 852 cas de #coronavirus ont été ...</td>\n",
       "      <td>258</td>\n",
       "      <td>0</td>\n",
       "      <td>fr</td>\n",
       "      <td>NaN</td>\n",
       "      <td>2spi</td>\n",
       "      <td>Rs3Ny</td>\n",
       "      <td>838</td>\n",
       "      <td>644</td>\n",
       "      <td>16386</td>\n",
       "      <td>13942</td>\n",
       "      <td>False</td>\n",
       "      <td>Sat Jan 04 21:03:16 +0000 2020</td>\n",
       "      <td>[{'text': 'coronavirus', 'indices': [42, 54]}]</td>\n",
       "      <td>[{'screen_name': 'Mediavenir', 'name': 'Mediav...</td>\n",
       "      <td>NaN</td>\n",
       "      <td>NaN</td>\n",
       "    </tr>\n",
       "  </tbody>\n",
       "</table>\n",
       "</div>"
      ],
      "text/plain": [
       "                        timestamp  \\\n",
       "0  Sat Nov 07 21:14:49 +0000 2020   \n",
       "1  Sat Nov 07 21:14:49 +0000 2020   \n",
       "2  Sat Nov 07 21:14:49 +0000 2020   \n",
       "3  Sat Nov 07 21:14:49 +0000 2020   \n",
       "4  Sat Nov 07 21:14:49 +0000 2020   \n",
       "\n",
       "                                                text  retweet_count  \\\n",
       "0  Incorrect. #COVID19  IFR is much lower than fi...              1   \n",
       "1  @HistoireSecrete ALERTE - 86 852 cas de #coron...              0   \n",
       "2  Nous retiendrons les noms des #playmobils, #tr...              3   \n",
       "3  Congratulations, @JoeBiden. \\n\\nTogether, we h...           4412   \n",
       "4  🇷 ALERTE - 86 852 cas de #coronavirus ont été ...            258   \n",
       "\n",
       "   favorite_count lang  location                               user_name  \\\n",
       "0               0   en       NaN                                   ZedAK   \n",
       "1               0   fr       NaN                                 Thierry   \n",
       "2               0   fr       NaN  PRODIGY ♥ PRODIGE ☮ Anti fascisme EM 🖕   \n",
       "3               0   en       NaN                                     Tim   \n",
       "4               0   fr       NaN                                    2spi   \n",
       "\n",
       "  user_screen_name  user_followers_count  user_friends_count  \\\n",
       "0       TrdisOprtr                    97                  20   \n",
       "1  ____Thierry____                  1824                4972   \n",
       "2     tpmetadone21                  2290                1086   \n",
       "3    russelltim151                  2187                1100   \n",
       "4            Rs3Ny                   838                 644   \n",
       "\n",
       "   user_favourites_count  user_statuses_count  user_verified  \\\n",
       "0                   6704                22765          False   \n",
       "1                 114045                52635          False   \n",
       "2                    535                62621          False   \n",
       "3                 329200               830105          False   \n",
       "4                  16386                13942          False   \n",
       "\n",
       "             user_account_created  \\\n",
       "0  Thu Aug 13 22:03:59 +0000 2020   \n",
       "1  Sun Sep 15 20:02:17 +0000 2013   \n",
       "2  Wed Aug 03 11:36:53 +0000 2011   \n",
       "3  Fri Nov 28 19:47:49 +0000 2014   \n",
       "4  Sat Jan 04 21:03:16 +0000 2020   \n",
       "\n",
       "                             tweet_entities_hashtags  \\\n",
       "0  [{'text': 'COVID19', 'indices': [25, 33]}, {'t...   \n",
       "1  [{'text': 'coronavirus', 'indices': [40, 52]},...   \n",
       "2  [{'text': 'playmobils', 'indices': [46, 57]}, ...   \n",
       "3  [{'text': 'ClimateEmergency', 'indices': [84, ...   \n",
       "4     [{'text': 'coronavirus', 'indices': [42, 54]}]   \n",
       "\n",
       "                        tweet_entities_user_mentions location_type  \\\n",
       "0  [{'screen_name': 'Rapataux', 'name': '𓅓Ramon',...           NaN   \n",
       "1  [{'screen_name': 'HistoireSecrete', 'name': '#...           NaN   \n",
       "2  [{'screen_name': 'LalobaRose', 'name': '🃏 Rosi...           NaN   \n",
       "3  [{'screen_name': 'FijiPM', 'name': 'Frank Bain...           NaN   \n",
       "4  [{'screen_name': 'Mediavenir', 'name': 'Mediav...           NaN   \n",
       "\n",
       "  location_coordinates  \n",
       "0                  NaN  \n",
       "1                  NaN  \n",
       "2                  NaN  \n",
       "3                  NaN  \n",
       "4                  NaN  "
      ]
     },
     "execution_count": 1,
     "metadata": {},
     "output_type": "execute_result"
    }
   ],
   "source": [
    "'''\n",
    "This cell loads the data from the .json file and stores it into:\n",
    " -- a list of dictionaries called tweetsList\n",
    " -- a pandas DataFrame called tweetsDF\n",
    "\n",
    "You can assume that this cell will be executed before any of the visualization cells.\n",
    "\n",
    "The cell includes the necessary imports for working with MatplotLib, and Seaborn\n",
    "(as well as pandas and JSON files), but you can add others here as needed.\n",
    "\n",
    "This cell will also display for use as a reference:\n",
    " -- the first tweet from tweetsList\n",
    " -- the first five tweets from tweetsDF\n",
    " \n",
    "(This cell will also take a little while to run...)\n",
    "'''\n",
    "\n",
    "import json\n",
    "import matplotlib.pyplot as plt\n",
    "import seaborn as sns\n",
    "import pprint\n",
    "import pandas as pd\n",
    "\n",
    "sns.set()\n",
    "\n",
    "# Load dataset from the .json tweets file\n",
    "with open('CovidTweets.json', 'r', encoding=\"utf-8\") as infile:\n",
    "    tweetsList = json.load(infile)\n",
    "\n",
    "# Convert the dataset into a partially-flattened pandas DataFrame   \n",
    "tweetsDF = pd.io.json.json_normalize(tweetsList, sep='_')\n",
    "\n",
    "# Sample output\n",
    "print(\"The first tweet from tweetsList is:\\n\")\n",
    "pprint.pprint(tweetsList[0])    \n",
    "\n",
    "print(\"\\n\\nThe first five tweets from tweetsDF are:\")\n",
    "tweetsDF.head()"
   ]
  },
  {
   "cell_type": "markdown",
   "metadata": {},
   "source": [
    "1. The question I am trying to answer in this visualization is: Does status count effect the amount of retweets a user gets?\n",
    "2. I chose a scatter plot because it allows me to visualize the overall relational trend between the two variables.\n",
    "3. From this data, a user should learn that the amount of retweets a post gets doesn't depend on how many status updates are posted by a user. In fact, this graph suggests that users who have the least amount of status updates have the largest cluster of highly retweeted tweets in multiple ranges of retweet counts. While users with high status counts also recieved large retweet counts, they do not recieve as many retweets as those with small status counts. "
   ]
  },
  {
   "cell_type": "code",
   "execution_count": 7,
   "metadata": {},
   "outputs": [
    {
     "data": {
      "text/plain": [
       "<seaborn.axisgrid.FacetGrid at 0x7fb71a341640>"
      ]
     },
     "execution_count": 7,
     "metadata": {},
     "output_type": "execute_result"
    },
    {
     "data": {
      "image/png": "[encoded data removed]",
      "text/plain": [
       "<Figure size 360x360 with 1 Axes>"
      ]
     },
     "metadata": {},
     "output_type": "display_data"
    }
   ],
   "source": [
    "tweets = tweetsDF.loc[tweetsDF['user_statuses_count'] < 15000]\n",
    "tweets = tweets.loc[tweets['retweet_count'] < 35000]\n",
    "tweets = tweets.loc[tweets['retweet_count'] > 5000]\n",
    "sns.relplot(x='user_statuses_count', y='retweet_count', data=tweets)"
   ]
  },
  {
   "cell_type": "markdown",
   "metadata": {},
   "source": [
    "1. The question I am trying to answer in this visualization is: How often do people tweet in other languages compared to english?\n",
    "2. For this visualization I chose to use a bar graph. I chose this because it is the best way to compare the different amounts of tweets in other languages.\n",
    "3. From this data a user should learn that the overwhelming majority of tweets are posted in english. More over, people tweeted more about covid in french than in spanish, which is surprising considering twitter headquarters are in the US and South America is closer to it than France. In addition, there is a steep fall off of different language use after english, french, and spanish, suggesting the mojority of twitter users speak english, then french, and then spanish with many outliers after who barely using the app in their language."
   ]
  },
  {
   "cell_type": "code",
   "execution_count": 3,
   "metadata": {},
   "outputs": [
    {
     "data": {
      "text/plain": [
       "Text(0, 0.5, 'Number of tweets')"
      ]
     },
     "execution_count": 3,
     "metadata": {},
     "output_type": "execute_result"
    },
    {
     "data": {
      "image/png": "[encoded data removed]",
      "text/plain": [
       "<Figure size 432x288 with 1 Axes>"
      ]
     },
     "metadata": {},
     "output_type": "display_data"
    }
   ],
   "source": [
    "languages = {}\n",
    "\n",
    "for lang in tweetsDF['lang']:\n",
    "    if lang in languages:\n",
    "        languages[lang] += 1\n",
    "    else:\n",
    "        languages[lang] = 1\n",
    "\n",
    "langs = []\n",
    "langAmount = []\n",
    "\n",
    "for key in languages:\n",
    "    if  4500 <= languages[key]:\n",
    "        langs.append(key)\n",
    "        langAmount.append(languages[key])\n",
    "\n",
    "plt.bar(langs, langAmount)\n",
    "plt.title('Tweets in Different Languages')\n",
    "plt.xlabel('Languages')\n",
    "plt.ylabel('Number of tweets')"
   ]
  },
  {
   "cell_type": "markdown",
   "metadata": {},
   "source": [
    "1. The question I am trying to answer in this visualization is: Which covid-related hashtag is used the most?\n",
    "2. I chose to use a line plot for this visualization because it shows the steep drop off of hashtag usage.\n",
    "3. From this visualization, a user should learn that majority of people who tweet about covid are using the hashtag 'COVID19'. This is important information because if one were trying to get a message across to the most amount of people on twitter, they would want to use this hashtag over all others to have a greater chance of being seen."
   ]
  },
  {
   "cell_type": "code",
   "execution_count": 4,
   "metadata": {},
   "outputs": [
    {
     "data": {
      "text/plain": [
       "Text(0, 0.5, 'Number of Uses')"
      ]
     },
     "execution_count": 4,
     "metadata": {},
     "output_type": "execute_result"
    },
    {
     "data": {
      "image/png": "[encoded data removed]",
      "text/plain": [
       "<Figure size 432x288 with 1 Axes>"
      ]
     },
     "metadata": {},
     "output_type": "display_data"
    }
   ],
   "source": [
    "hashtags = {}\n",
    "\n",
    "\n",
    "tagsList = tweetsDF['tweet_entities_hashtags']\n",
    "\n",
    "for tag in tagsList:\n",
    "    if len(tag) >= 1:\n",
    "        for txt in tag:\n",
    "            text = txt['text']\n",
    "            if text in hashtags:\n",
    "                hashtags[text] += 1\n",
    "            else:\n",
    "                hashtags[text] = 1\n",
    "                \n",
    "topFiveValues = sorted(hashtags, key=hashtags.get, reverse=True)[:5]\n",
    "topFiveInts = []\n",
    "for item in topFiveValues:\n",
    "    topFiveInts.append(hashtags[item])\n",
    "    \n",
    "plt.plot(topFiveValues, topFiveInts) \n",
    "plt.title('Distribution of Top Covid Hashtags')\n",
    "plt.xlabel('Top Hashtags')\n",
    "plt.ylabel('Number of Uses')"
   ]
  },
  {
   "cell_type": "markdown",
   "metadata": {},
   "source": [
    "1. The question I am trying to answer in this visualization is: At what hours do people tweet the most?\n",
    "2. I chose a stem plot for this visualization because it helps to show a trend in the data, as well as clearly show which hours people are most on twitter.\n",
    "3. From this visulalization, a user should learn that a tweet will be seen by more people if posted later in the day. The data shows an upward slope which peaks in the evening. This is important to know for someone who wants to get their message out, especially about covid, to the most amount of people, and clearly most people are on twitter in the evening around 7-8."
   ]
  },
  {
   "cell_type": "code",
   "execution_count": 5,
   "metadata": {},
   "outputs": [
    {
     "data": {
      "text/plain": [
       "Text(0, 0.5, 'Amount of tweets')"
      ]
     },
     "execution_count": 5,
     "metadata": {},
     "output_type": "execute_result"
    },
    {
     "data": {
      "image/png": "[encoded data removed]",
      "text/plain": [
       "<Figure size 432x288 with 1 Axes>"
      ]
     },
     "metadata": {},
     "output_type": "display_data"
    }
   ],
   "source": [
    "hours = {}\n",
    "\n",
    "for tweet in tweetsList:\n",
    "    hour = tweet['timestamp'][11:13]\n",
    "    if hour in hours:\n",
    "        hours[hour] += 1\n",
    "    else:\n",
    "        hours[hour] = 1\n",
    "        \n",
    "\n",
    "\n",
    "allHours = []\n",
    "hoursCounts = []\n",
    "        \n",
    "for key in hours:\n",
    "    allHours.append(int(key))\n",
    "    hoursCounts.append(hours[key])\n",
    "    \n",
    "\n",
    "plt.stem(allHours, hoursCounts)\n",
    "plt.title('Distribution of Tweets by Hour')\n",
    "plt.xlabel('Hours')\n",
    "plt.ylabel('Amount of tweets')\n"
   ]
  }
 ],
 "metadata": {
  "kernelspec": {
   "display_name": "Python 3",
   "language": "python",
   "name": "python3"
  },
  "language_info": {
   "codemirror_mode": {
    "name": "ipython",
    "version": 3
   },
   "file_extension": ".py",
   "mimetype": "text/x-python",
   "name": "python",
   "nbconvert_exporter": "python",
   "pygments_lexer": "ipython3",
   "version": "3.8.2"
  }
 },
 "nbformat": 4,
 "nbformat_minor": 2
}
