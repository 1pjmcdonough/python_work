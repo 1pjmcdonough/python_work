{
 "cells": [
  {
   "cell_type": "code",
   "execution_count": 5,
   "metadata": {},
   "outputs": [],
   "source": [
    "import requests \n",
    "from bs4 import BeautifulSoup as bs\n",
    "from pprint import pprint \n",
    "import matplotlib.pyplot as plt\n",
    "from tkinter import *"
   ]
  },
  {
   "cell_type": "code",
   "execution_count": 3,
   "metadata": {},
   "outputs": [
    {
     "name": "stdout",
     "output_type": "stream",
     "text": [
      "Would you like the weather for a specific city or all cities?(s or a): s\n",
      "Enter your city:greensboro\n",
      "\n",
      "Greensboro, NC Weather (as of 10:43 pm EST):\n",
      "Clear, 5% chance of precip through 11 pm\n",
      "--------------------\n",
      "Feels Like: 35°\n",
      "Sunrise/Sunset: 7:28 am/5:12 pm\n",
      "High/Low: --/32°\n",
      "Wind Speed: 3 mph\n",
      "Humidity: 89%\n",
      "UV Index: 0 of 10\n",
      "Visibility: 10 mi\n",
      "Moon Phase: Waxing Gibbous\n"
     ]
    }
   ],
   "source": [
    "cities = {'greensboro': 'https://weather.com/weather/today/l/130885fd870d531812fc9b293d8d25ea398ba2c1eaf0591562180f847a9d6ed1',\n",
    "          'blacksburg': 'https://weather.com/weather/today/l/9f199a8e46ceda3d383c476bf09c3223e93cfaaaa3c21c11615794091d4a48a6',\n",
    "          'irvine': 'https://weather.com/weather/today/l/647f0ae4a3b3500e4e0204b5f21a58b5117f635b1bd6b99e00fe80e95325991b',       \n",
    "          'green bay': 'https://weather.com/weather/today/l/238b5643abb14f64c73e491fdd438e4d9efc36d343aa1cdb37f15de5cf1f239b',\n",
    "          'san francisco': 'https://weather.com/weather/today/l/69bedc6a5b6e977993fb3e5344e3c06d8bc36a1fb6754c3ddfb5310a3c6d6c87'\n",
    "}\n",
    "\n",
    "def weatherReport(city): \n",
    "    city = city.casefold()\n",
    "    city = city.rstrip()\n",
    "    response = requests.get(cities[city])\n",
    "    soup = bs(response.text, 'html.parser')\n",
    "    location = soup.find('h1').get_text()\n",
    "    timestamp = soup.find(class_='CurrentConditions--timestamp--1SWy5').get_text()\n",
    "    temp = soup.find(class_='TodayDetailsCard--feelsLikeTempValue--2aogo').get_text()\n",
    "    sunlight = soup.find_all(class_='SunriseSunset--dateValue--2nwgx')\n",
    "    sunRise = sunlight[0].get_text()\n",
    "    sunSet = sunlight[1].get_text()\n",
    "    weatherDetails = soup.find_all(class_='WeatherDetailsListItem--wxData--23DP5')\n",
    "    highLow = soup.find(class_='CurrentConditions--secondary--2XNLR').get_text()\n",
    "    wind = weatherDetails[1].get_text()\n",
    "    humidity = weatherDetails[2].get_text()\n",
    "    currentSky = soup.find(class_='CurrentConditions--phraseValue--2xXSr').get_text()\n",
    "    precipPhrase = soup.find(class_='CurrentConditions--precipValue--RBVJT').get_text()\n",
    "    UVi = weatherDetails[5].get_text()\n",
    "    visibility = weatherDetails[6].get_text()\n",
    "    moonPhase = weatherDetails[7].get_text()\n",
    "    \n",
    "    print()\n",
    "    print(location, '(' + timestamp + '):')\n",
    "    print(currentSky + ',', precipPhrase)\n",
    "    print('--------------------')\n",
    "    print('Feels Like:', temp)\n",
    "    print('Sunrise/Sunset:', sunRise+'/'+sunSet)\n",
    "    print('High/Low:', highLow)\n",
    "    print('Wind Speed:', wind)\n",
    "    print('Humidity:', humidity)\n",
    "    print('UV Index:', UVi)\n",
    "    print('Visibility:', visibility)\n",
    "    print('Moon Phase:', moonPhase)\n",
    "\n",
    "x = input('Would you like the weather for a specific city or all cities?(s or a): ')\n",
    "x = x.rstrip()\n",
    "if x == 's':    \n",
    "    keys = [i for i in cities]\n",
    "    city = input('Enter your city:')\n",
    "    while city not in keys:\n",
    "        city = input('Enter your city:')\n",
    "    weatherReport(city)\n",
    "else:\n",
    "    for city in cities:\n",
    "        weatherReport(city)"
   ]
  },
  {
   "cell_type": "code",
   "execution_count": 15,
   "metadata": {},
   "outputs": [
    {
     "name": "stdout",
     "output_type": "stream",
     "text": [
      "\n",
      "Irvine, CA Weather (as of 8:27 pm PST):\n",
      "Mostly Cloudy, 25% chance of rain through 9 pm\n",
      "--------------------\n",
      "Feels Like: 45°\n",
      "Sunrise/Sunset: 6:55 am/4:51 pm\n",
      "High/Low: --/44°\n",
      "Wind Speed: 7 mph\n",
      "Humidity: 88%\n",
      "UV Index: 0 of 10\n",
      "Visibility: 8 mi\n",
      "Moon Phase: Waxing Gibbous\n",
      "None\n"
     ]
    }
   ],
   "source": [
    "root = Tk()\n",
    "root.title('Weather') \n",
    "root.geometry('500x500')\n",
    "\n",
    "def show(city):\n",
    "    city = variable.get()\n",
    "    info = weatherReport(city)\n",
    "    label = Label(root, text=info)\n",
    "    print(info)\n",
    "options = [i for i in cities]\n",
    "variable = StringVar(root)\n",
    "variable.set(options[0])\n",
    "om = OptionMenu(root, variable, *options, command=show)\n",
    "om.pack()\n",
    "root.mainloop()"
   ]
  },
  {
   "cell_type": "code",
   "execution_count": null,
   "metadata": {},
   "outputs": [],
   "source": []
  },
  {
   "cell_type": "code",
   "execution_count": null,
   "metadata": {},
   "outputs": [],
   "source": []
  }
 ],
 "metadata": {
  "kernelspec": {
   "display_name": "Python 3 (ipykernel)",
   "language": "python",
   "name": "python3"
  },
  "language_info": {
   "codemirror_mode": {
    "name": "ipython",
    "version": 3
   },
   "file_extension": ".py",
   "mimetype": "text/x-python",
   "name": "python",
   "nbconvert_exporter": "python",
   "pygments_lexer": "ipython3",
   "version": "3.8.3"
  }
 },
 "nbformat": 4,
 "nbformat_minor": 4
}
